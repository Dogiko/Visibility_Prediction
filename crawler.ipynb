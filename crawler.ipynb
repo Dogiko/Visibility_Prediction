{
 "cells": [
  {
   "cell_type": "code",
   "execution_count": 1,
   "metadata": {
    "collapsed": true
   },
   "outputs": [],
   "source": [
    "import cv2\n",
    "import time\n",
    "import urllib\n",
    "import matplotlib.pyplot as plt\n",
    "import numpy as np"
   ]
  },
  {
   "cell_type": "markdown",
   "metadata": {},
   "source": [
    "Visibility, uv and wet from yahoo-weather.\n",
    "Default duration : 1 min"
   ]
  },
  {
   "cell_type": "code",
   "execution_count": null,
   "metadata": {
    "collapsed": true
   },
   "outputs": [],
   "source": [
    "os.mkdir('Capture')\n",
    "\n",
    "cma=cv2.VideoCapture(0)\n",
    "\n",
    "try:\n",
    "    record = np.load(\"visibility.npy\")\n",
    "except:\n",
    "    record = np.zeros((0,4), dtype=str)\n",
    "\n",
    "while True:\n",
    "    text = urllib.request.urlopen(\"https://tw.news.yahoo.com/weather\").read()\n",
    "    \n",
    "    p = str(text).find(\"%</div>\")\n",
    "    wet = str(text)[p-2:p]\n",
    "    \n",
    "    p = str(text).find('\\\\xe5\\\\x85\\\\xac\\\\xe9\\\\x87\\\\x8c</span></div>')\n",
    "    visible = str(text)[p-6:p-1]\n",
    "    \n",
    "    p = str(text).find(\"\\\\xe7\\\\xb4\\\\xab\\\\xe5\\\\xa4\\\\x96\\\\xe7\\\\xb7\\\\x9a\\\\xe6\\\\x8c\\\\x87\\\\xe6\\\\x95\\\\xb8\")\n",
    "    uv = str(text)[p+106:p+107]\n",
    "    \n",
    "    record = np.append(record,\n",
    "                       np.array([[time.strftime(\"%m%d %H%M\", time.localtime()),\n",
    "                                  wet,\n",
    "                                  visible,\n",
    "                                  uv\n",
    "                                 ]]),\n",
    "                       axis=0)\n",
    "    np.save(\"visibility.npy\", record)\n",
    "    cv2.imwrite(\"Capture/%s.jpg\" %(time.strftime(\"%m%d %H%M\", time.localtime())), cma.read()[1])\n",
    "    \n",
    "    if time.strftime(\"%M\", time.localtime())[-1] == \"0\":\n",
    "        print(time.strftime(\"%H%M\", time.localtime()) + \" working now...\")\n",
    "    \n",
    "    time.sleep(60)"
   ]
  },
  {
   "cell_type": "code",
   "execution_count": null,
   "metadata": {
    "collapsed": true
   },
   "outputs": [],
   "source": []
  }
 ],
 "metadata": {
  "kernelspec": {
   "display_name": "Python 3",
   "language": "python",
   "name": "python3"
  },
  "language_info": {
   "codemirror_mode": {
    "name": "ipython",
    "version": 3
   },
   "file_extension": ".py",
   "mimetype": "text/x-python",
   "name": "python",
   "nbconvert_exporter": "python",
   "pygments_lexer": "ipython3",
   "version": "3.6.4"
  }
 },
 "nbformat": 4,
 "nbformat_minor": 2
}
